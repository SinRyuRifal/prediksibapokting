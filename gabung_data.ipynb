{
 "cells": [
  {
   "cell_type": "code",
   "execution_count": 1,
   "id": "a78119a3",
   "metadata": {},
   "outputs": [
    {
     "name": "stdout",
     "output_type": "stream",
     "text": [
      "✅ File berhasil dibuat: harga_bapokting_surabaya.xlsx\n",
      "✅ File berhasil dibuat: harga_bapokting_surabaya.csv\n"
     ]
    }
   ],
   "source": [
    "import pandas as pd\n",
    "import os\n",
    "\n",
    "folder_path = \"Dataset Surabaya\"\n",
    "all_data = []\n",
    "\n",
    "for filename in os.listdir(folder_path):\n",
    "    if filename.endswith(\".xlsx\"):\n",
    "        file_path = os.path.join(folder_path, filename)\n",
    "\n",
    "        # Baca file Excel, header di baris ke-3 (indeks 2)\n",
    "        df = pd.read_excel(file_path, header=2)\n",
    "\n",
    "        # Buang baris dengan tanggal berisi Rata-rata, Maksimum, Minimum\n",
    "        df = df[~df['Tanggal'].astype(str).str.contains('Rata|Maksimum|Minimum', na=False)]\n",
    "\n",
    "        # Konversi kolom Tanggal ke datetime\n",
    "        df['Tanggal'] = pd.to_datetime(df['Tanggal'], format=\"%d %b %Y\", errors='coerce')\n",
    "\n",
    "        # Hapus baris dengan Tanggal yang gagal dikonversi (NaT)\n",
    "        df = df.dropna(subset=['Tanggal'])\n",
    "\n",
    "        # Buang kolom 'No' jika ada\n",
    "        if 'No' in df.columns:\n",
    "            df = df.drop(columns=['No'])\n",
    "\n",
    "        all_data.append(df)\n",
    "\n",
    "# Gabungkan semua file (berdasarkan baris)\n",
    "combined_df = pd.concat(all_data, axis=0)\n",
    "\n",
    "# Hapus duplikat baris jika ada (misal ada tanggal yang sama dari file berbeda)\n",
    "combined_df = combined_df.drop_duplicates()\n",
    "\n",
    "# Urutkan berdasarkan tanggal\n",
    "combined_df = combined_df.sort_values(by='Tanggal')\n",
    "\n",
    "# Format kolom Tanggal menjadi string yyyy-mm-dd\n",
    "combined_df['Tanggal'] = combined_df['Tanggal'].dt.strftime('%Y-%m-%d')\n",
    "\n",
    "# Simpan hasil ke file Excel dan CSV\n",
    "excel_output_filename = \"harga_bapokting_surabaya.xlsx\"\n",
    "csv_output_filename = \"harga_bapokting_surabaya.csv\"\n",
    "\n",
    "# Simpan ke Excel\n",
    "combined_df.to_excel(excel_output_filename, index=False)\n",
    "\n",
    "# Simpan ke CSV\n",
    "combined_df.to_csv(csv_output_filename, index=False)\n",
    "\n",
    "print(f\"✅ File berhasil dibuat: {excel_output_filename}\")\n",
    "print(f\"✅ File berhasil dibuat: {csv_output_filename}\")\n"
   ]
  }
 ],
 "metadata": {
  "kernelspec": {
   "display_name": "Python 3",
   "language": "python",
   "name": "python3"
  },
  "language_info": {
   "codemirror_mode": {
    "name": "ipython",
    "version": 3
   },
   "file_extension": ".py",
   "mimetype": "text/x-python",
   "name": "python",
   "nbconvert_exporter": "python",
   "pygments_lexer": "ipython3",
   "version": "3.12.3"
  }
 },
 "nbformat": 4,
 "nbformat_minor": 5
}
